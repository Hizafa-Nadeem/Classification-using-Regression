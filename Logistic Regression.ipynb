{
 "cells": [
  {
   "cell_type": "code",
   "execution_count": 168,
   "outputs": [],
   "source": [
    "\n",
    "import csv\n",
    "import time\n",
    "\n",
    "import numpy as np\n",
    "import pandas as pd\n",
    "from numpy.random import rand\n",
    "from sklearn.model_selection import train_test_split  # used only for train test splitting\n",
    "import matplotlib.pyplot as plt\n",
    "from sklearn import preprocessing\n",
    "\n"
   ],
   "metadata": {
    "collapsed": false,
    "pycharm": {
     "name": "#%%\n"
    }
   }
  },
  {
   "cell_type": "code",
   "execution_count": 194,
   "outputs": [
    {
     "data": {
      "text/plain": "       Exam 1     Exam 2  Admission\n0   34.623660  78.024693          0\n1   30.286711  43.894998          0\n2   35.847409  72.902198          0\n3   60.182599  86.308552          1\n4   79.032736  75.344376          1\n..        ...        ...        ...\n95  83.489163  48.380286          1\n96  42.261701  87.103851          1\n97  99.315009  68.775409          1\n98  55.340018  64.931938          1\n99  74.775893  89.529813          1\n\n[100 rows x 3 columns]",
      "text/html": "<div>\n<style scoped>\n    .dataframe tbody tr th:only-of-type {\n        vertical-align: middle;\n    }\n\n    .dataframe tbody tr th {\n        vertical-align: top;\n    }\n\n    .dataframe thead th {\n        text-align: right;\n    }\n</style>\n<table border=\"1\" class=\"dataframe\">\n  <thead>\n    <tr style=\"text-align: right;\">\n      <th></th>\n      <th>Exam 1</th>\n      <th>Exam 2</th>\n      <th>Admission</th>\n    </tr>\n  </thead>\n  <tbody>\n    <tr>\n      <th>0</th>\n      <td>34.623660</td>\n      <td>78.024693</td>\n      <td>0</td>\n    </tr>\n    <tr>\n      <th>1</th>\n      <td>30.286711</td>\n      <td>43.894998</td>\n      <td>0</td>\n    </tr>\n    <tr>\n      <th>2</th>\n      <td>35.847409</td>\n      <td>72.902198</td>\n      <td>0</td>\n    </tr>\n    <tr>\n      <th>3</th>\n      <td>60.182599</td>\n      <td>86.308552</td>\n      <td>1</td>\n    </tr>\n    <tr>\n      <th>4</th>\n      <td>79.032736</td>\n      <td>75.344376</td>\n      <td>1</td>\n    </tr>\n    <tr>\n      <th>...</th>\n      <td>...</td>\n      <td>...</td>\n      <td>...</td>\n    </tr>\n    <tr>\n      <th>95</th>\n      <td>83.489163</td>\n      <td>48.380286</td>\n      <td>1</td>\n    </tr>\n    <tr>\n      <th>96</th>\n      <td>42.261701</td>\n      <td>87.103851</td>\n      <td>1</td>\n    </tr>\n    <tr>\n      <th>97</th>\n      <td>99.315009</td>\n      <td>68.775409</td>\n      <td>1</td>\n    </tr>\n    <tr>\n      <th>98</th>\n      <td>55.340018</td>\n      <td>64.931938</td>\n      <td>1</td>\n    </tr>\n    <tr>\n      <th>99</th>\n      <td>74.775893</td>\n      <td>89.529813</td>\n      <td>1</td>\n    </tr>\n  </tbody>\n</table>\n<p>100 rows × 3 columns</p>\n</div>"
     },
     "execution_count": 194,
     "metadata": {},
     "output_type": "execute_result"
    }
   ],
   "source": [
    "df = pd.read_csv(\"ex2data1.txt\")\n",
    "# storing this dataframe in a csv file\n",
    "df.to_csv('ex2data1.csv', index = None)\n",
    "data=pd.read_csv('ex2data1.csv',names= [\"Exam 1\",\"Exam 2\", \"Admission\"])\n",
    "data\n",
    "\n",
    "\n"
   ],
   "metadata": {
    "collapsed": false,
    "pycharm": {
     "name": "#%%\n"
    }
   }
  },
  {
   "cell_type": "code",
   "execution_count": 195,
   "outputs": [
    {
     "name": "stdout",
     "output_type": "stream",
     "text": [
      "    Ones    Exam 1    Exam 2\n",
      "0      1 -0.310741  0.119377\n",
      "1      1 -0.354185 -0.225823\n",
      "2      1 -0.298482  0.067566\n",
      "3      1 -0.054711  0.203162\n",
      "4      1  0.134115  0.092267\n",
      "..   ...       ...       ...\n",
      "95     1  0.178757 -0.180457\n",
      "96     1 -0.234229  0.211206\n",
      "97     1  0.337288  0.025826\n",
      "98     1 -0.103220 -0.013048\n",
      "99     1  0.091474  0.235743\n",
      "\n",
      "[100 rows x 3 columns] 0     0\n",
      "1     0\n",
      "2     0\n",
      "3     1\n",
      "4     1\n",
      "     ..\n",
      "95    1\n",
      "96    1\n",
      "97    1\n",
      "98    1\n",
      "99    1\n",
      "Name: Admission, Length: 100, dtype: int64\n"
     ]
    },
    {
     "data": {
      "text/plain": "      Exam 1    Exam 2  Admission\n0  -0.310741  0.119377          0\n1  -0.354185 -0.225823          0\n2  -0.298482  0.067566          0\n3  -0.054711  0.203162          1\n4   0.134115  0.092267          1\n..       ...       ...        ...\n95  0.178757 -0.180457          1\n96 -0.234229  0.211206          1\n97  0.337288  0.025826          1\n98 -0.103220 -0.013048          1\n99  0.091474  0.235743          1\n\n[100 rows x 3 columns]",
      "text/html": "<div>\n<style scoped>\n    .dataframe tbody tr th:only-of-type {\n        vertical-align: middle;\n    }\n\n    .dataframe tbody tr th {\n        vertical-align: top;\n    }\n\n    .dataframe thead th {\n        text-align: right;\n    }\n</style>\n<table border=\"1\" class=\"dataframe\">\n  <thead>\n    <tr style=\"text-align: right;\">\n      <th></th>\n      <th>Exam 1</th>\n      <th>Exam 2</th>\n      <th>Admission</th>\n    </tr>\n  </thead>\n  <tbody>\n    <tr>\n      <th>0</th>\n      <td>-0.310741</td>\n      <td>0.119377</td>\n      <td>0</td>\n    </tr>\n    <tr>\n      <th>1</th>\n      <td>-0.354185</td>\n      <td>-0.225823</td>\n      <td>0</td>\n    </tr>\n    <tr>\n      <th>2</th>\n      <td>-0.298482</td>\n      <td>0.067566</td>\n      <td>0</td>\n    </tr>\n    <tr>\n      <th>3</th>\n      <td>-0.054711</td>\n      <td>0.203162</td>\n      <td>1</td>\n    </tr>\n    <tr>\n      <th>4</th>\n      <td>0.134115</td>\n      <td>0.092267</td>\n      <td>1</td>\n    </tr>\n    <tr>\n      <th>...</th>\n      <td>...</td>\n      <td>...</td>\n      <td>...</td>\n    </tr>\n    <tr>\n      <th>95</th>\n      <td>0.178757</td>\n      <td>-0.180457</td>\n      <td>1</td>\n    </tr>\n    <tr>\n      <th>96</th>\n      <td>-0.234229</td>\n      <td>0.211206</td>\n      <td>1</td>\n    </tr>\n    <tr>\n      <th>97</th>\n      <td>0.337288</td>\n      <td>0.025826</td>\n      <td>1</td>\n    </tr>\n    <tr>\n      <th>98</th>\n      <td>-0.103220</td>\n      <td>-0.013048</td>\n      <td>1</td>\n    </tr>\n    <tr>\n      <th>99</th>\n      <td>0.091474</td>\n      <td>0.235743</td>\n      <td>1</td>\n    </tr>\n  </tbody>\n</table>\n<p>100 rows × 3 columns</p>\n</div>"
     },
     "execution_count": 195,
     "metadata": {},
     "output_type": "execute_result"
    }
   ],
   "source": [
    "\n",
    "# set X (training data) and y (target variable)\n",
    "#cols = data.shape[1]\n",
    "#X = data.iloc[:,0:cols-1]\n",
    "#y = data.iloc[:,cols-1:cols]\n",
    "\n",
    "data[['Exam 1','Exam 2']] = (data[['Exam 1','Exam 2']] - data[['Exam 1','Exam 2']].mean()) / (data[['Exam 1','Exam 2']].max())\n",
    "X = data[['Exam 1','Exam 2']]\n",
    "y = data['Admission']\n",
    "\n",
    "\n",
    "\n",
    "\n",
    "X.insert(0, 'Ones', 1)\n",
    "\n",
    "print(X,y)\n",
    "\n",
    "\n",
    "\n",
    "\n",
    "# convert to numpy arrays and initalize the parameter array theta\n",
    "X = np.array(X.values)\n",
    "y = np.array(y.values)\n",
    "y = y.reshape(100,1)\n",
    "theta = np.zeros(3)\n",
    "data"
   ],
   "metadata": {
    "collapsed": false,
    "pycharm": {
     "name": "#%%\n"
    }
   }
  },
  {
   "cell_type": "code",
   "execution_count": null,
   "outputs": [],
   "source": [
    "\n",
    "# add a ones column - this makes the matrix multiplication work out easier\n",
    "\n",
    "\n"
   ],
   "metadata": {
    "collapsed": false,
    "pycharm": {
     "name": "#%%\n"
    }
   }
  },
  {
   "cell_type": "code",
   "execution_count": 196,
   "outputs": [
    {
     "name": "stdout",
     "output_type": "stream",
     "text": [
      "[[ 1.         -0.31074106  0.11937658]\n",
      " [ 1.         -0.35418534 -0.22582308]\n",
      " [ 1.         -0.29848247  0.06756588]\n",
      " [ 1.         -0.05471093  0.20316242]\n",
      " [ 1.          0.13411549  0.09226692]\n",
      " [ 1.         -0.20596452 -0.10018896]\n",
      " [ 1.         -0.04545434  0.30635785]\n",
      " [ 1.          0.09396647 -0.19892886]\n",
      " [ 1.          0.1047254   0.21440976]\n",
      " [ 1.          0.18820945 -0.22948047]\n",
      " [ 1.          0.30269387 -0.2831686 ]\n",
      " [ 1.          0.09385541 -0.36026032]\n",
      " [ 1.          0.16691512  0.10377287]\n",
      " [ 1.          0.0372673   0.31856856]\n",
      " [ 1.         -0.26150952  0.09927044]\n",
      " [ 1.         -0.11693351  0.23248188]\n",
      " [ 1.          0.03431778 -0.13635689]\n",
      " [ 1.          0.02306552 -0.19766902]\n",
      " [ 1.          0.05025887  0.27010511]\n",
      " [ 1.          0.11354055 -0.1885925 ]\n",
      " [ 1.          0.01730733 -0.23650949]\n",
      " [ 1.          0.24073943 -0.00427465]\n",
      " [ 1.         -0.1513554  -0.17564768]\n",
      " [ 1.         -0.31486414 -0.2226418 ]\n",
      " [ 1.          0.12300993  0.02781812]\n",
      " [ 1.         -0.03379077  0.0377514 ]\n",
      " [ 1.          0.1457099  -0.21645081]\n",
      " [ 1.          0.27517484 -0.27734888]\n",
      " [ 1.         -0.03820645 -0.16148459]\n",
      " [ 1.         -0.26904785 -0.0124034 ]\n",
      " [ 1.         -0.04272339  0.06661198]\n",
      " [ 1.          0.1979432  -0.09274873]\n",
      " [ 1.         -0.13559636 -0.03129758]\n",
      " [ 1.         -0.13622319  0.03247578]\n",
      " [ 1.         -0.25451193  0.05002304]\n",
      " [ 1.         -0.11028153 -0.14168294]\n",
      " [ 1.         -0.31783487  0.33020759]\n",
      " [ 1.         -0.01469815  0.14853996]\n",
      " [ 1.          0.09160748 -0.24930437]\n",
      " [ 1.         -0.31514884  0.09118816]\n",
      " [ 1.          0.18289604 -0.10027317]\n",
      " [ 1.         -0.14120862 -0.19587153]\n",
      " [ 1.          0.28848755 -0.00660544]\n",
      " [ 1.          0.16753319 -0.2589652 ]\n",
      " [ 1.         -0.14621692 -0.20632561]\n",
      " [ 1.         -0.03427498 -0.14322936]\n",
      " [ 1.          0.11568675  0.04284643]\n",
      " [ 1.          0.32182725  0.20740307]\n",
      " [ 1.         -0.03577368  0.30896127]\n",
      " [ 1.          0.25965398  0.22731286]\n",
      " [ 1.          0.14325204  0.08031927]\n",
      " [ 1.          0.33686241 -0.05282691]\n",
      " [ 1.          0.24945382 -0.23092472]\n",
      " [ 1.         -0.31173423 -0.05892272]\n",
      " [ 1.         -0.15384261 -0.16605192]\n",
      " [ 1.         -0.16085286 -0.0648638 ]\n",
      " [ 1.          0.32056543  0.02669758]\n",
      " [ 1.         -0.33124094  0.29712468]\n",
      " [ 1.          0.08619255  0.03643768]\n",
      " [ 1.          0.06162797  0.12371431]\n",
      " [ 1.          0.09768153  0.19761353]\n",
      " [ 1.         -0.30410511 -0.19421052]\n",
      " [ 1.         -0.09406649 -0.27268817]\n",
      " [ 1.         -0.35646815 -0.16819176]\n",
      " [ 1.         -0.21012183  0.00230696]\n",
      " [ 1.          0.00918201 -0.25417258]\n",
      " [ 1.         -0.25230155  0.31671251]\n",
      " [ 1.         -0.16600287 -0.14502749]\n",
      " [ 1.          0.14660537  0.26190159]\n",
      " [ 1.          0.01104346 -0.05290416]\n",
      " [ 1.         -0.3297821  -0.23176854]\n",
      " [ 1.         -0.01607721  0.11944733]\n",
      " [ 1.          0.06713777  0.30348707]\n",
      " [ 1.         -0.05195332  0.06951592]\n",
      " [ 1.         -0.06815049  0.09746642]\n",
      " [ 1.          0.3424253   0.06217547]\n",
      " [ 1.         -0.18411699  0.22508338]\n",
      " [ 1.         -0.15212301  0.09697498]\n",
      " [ 1.         -0.05197665 -0.23984752]\n",
      " [ 1.          0.16610982 -0.23770864]\n",
      " [ 1.          0.23309748  0.03622748]\n",
      " [ 1.          0.29240568 -0.20762424]\n",
      " [ 1.          0.01677872  0.00371556]\n",
      " [ 1.         -0.08420062 -0.06784418]\n",
      " [ 1.          0.14747869  0.25021029]\n",
      " [ 1.          0.02829118  0.1959383 ]\n",
      " [ 1.         -0.23609461  0.12767129]\n",
      " [ 1.          0.09850385  0.24479295]\n",
      " [ 1.          0.13013552  0.30773341]\n",
      " [ 1.         -0.13319198 -0.05514842]\n",
      " [ 1.          0.28499116  0.11062172]\n",
      " [ 1.          0.24847049  0.21530206]\n",
      " [ 1.         -0.10179636 -0.3100179 ]\n",
      " [ 1.          0.08863676  0.18836093]\n",
      " [ 1.          0.24243266 -0.21102289]\n",
      " [ 1.          0.1787566  -0.18045731]\n",
      " [ 1.         -0.23422894  0.21120635]\n",
      " [ 1.          0.33728796  0.02582609]\n",
      " [ 1.         -0.10322025 -0.01304812]\n",
      " [ 1.          0.09147365  0.23574338]] [[0]\n",
      " [0]\n",
      " [0]\n",
      " [1]\n",
      " [1]\n",
      " [0]\n",
      " [1]\n",
      " [1]\n",
      " [1]\n",
      " [1]\n",
      " [0]\n",
      " [0]\n",
      " [1]\n",
      " [1]\n",
      " [0]\n",
      " [1]\n",
      " [1]\n",
      " [0]\n",
      " [1]\n",
      " [1]\n",
      " [0]\n",
      " [1]\n",
      " [0]\n",
      " [0]\n",
      " [1]\n",
      " [1]\n",
      " [1]\n",
      " [0]\n",
      " [0]\n",
      " [0]\n",
      " [1]\n",
      " [1]\n",
      " [0]\n",
      " [1]\n",
      " [0]\n",
      " [0]\n",
      " [0]\n",
      " [1]\n",
      " [0]\n",
      " [0]\n",
      " [1]\n",
      " [0]\n",
      " [1]\n",
      " [0]\n",
      " [0]\n",
      " [0]\n",
      " [1]\n",
      " [1]\n",
      " [1]\n",
      " [1]\n",
      " [1]\n",
      " [1]\n",
      " [1]\n",
      " [0]\n",
      " [0]\n",
      " [0]\n",
      " [1]\n",
      " [0]\n",
      " [1]\n",
      " [1]\n",
      " [1]\n",
      " [0]\n",
      " [0]\n",
      " [0]\n",
      " [0]\n",
      " [0]\n",
      " [1]\n",
      " [0]\n",
      " [1]\n",
      " [1]\n",
      " [0]\n",
      " [1]\n",
      " [1]\n",
      " [1]\n",
      " [1]\n",
      " [1]\n",
      " [1]\n",
      " [1]\n",
      " [0]\n",
      " [0]\n",
      " [1]\n",
      " [1]\n",
      " [1]\n",
      " [1]\n",
      " [1]\n",
      " [1]\n",
      " [0]\n",
      " [1]\n",
      " [1]\n",
      " [0]\n",
      " [1]\n",
      " [1]\n",
      " [0]\n",
      " [1]\n",
      " [1]\n",
      " [1]\n",
      " [1]\n",
      " [1]\n",
      " [1]\n",
      " [1]] [0. 0. 0.]\n"
     ]
    }
   ],
   "source": [
    "print(X,y,theta)"
   ],
   "metadata": {
    "collapsed": false,
    "pycharm": {
     "name": "#%%\n"
    }
   }
  },
  {
   "cell_type": "code",
   "execution_count": 197,
   "metadata": {
    "collapsed": true
   },
   "outputs": [],
   "source": [
    "def sigmoid(z):\n",
    "    return 1 / (1 + np.exp(-z))"
   ]
  },
  {
   "cell_type": "code",
   "execution_count": 198,
   "outputs": [
    {
     "data": {
      "text/plain": "[<matplotlib.lines.Line2D at 0x1be18a8dfd0>]"
     },
     "execution_count": 198,
     "metadata": {},
     "output_type": "execute_result"
    },
    {
     "data": {
      "text/plain": "<Figure size 864x576 with 1 Axes>",
      "image/png": "[encoded data removed]"
     },
     "metadata": {
      "needs_background": "light"
     },
     "output_type": "display_data"
    }
   ],
   "source": [
    "nums = np.arange(-10, 10, step=1)\n",
    "\n",
    "fig, ax = plt.subplots(figsize=(12,8))\n",
    "ax.plot(nums, sigmoid(nums), 'r')"
   ],
   "metadata": {
    "collapsed": false,
    "pycharm": {
     "name": "#%%\n"
    }
   }
  },
  {
   "cell_type": "code",
   "execution_count": 199,
   "outputs": [],
   "source": [
    "def cost(theta, X, y):\n",
    "    theta = np.matrix(theta)\n",
    "    X = np.matrix(X)\n",
    "    y = np.matrix(y)\n",
    "    first = np.multiply(-y, np.log(sigmoid(np.dot(X ,theta.T))))\n",
    "    second = np.multiply((1 - y), np.log(1 - sigmoid(np.dot(X ,theta.T))))\n",
    "    return np.sum(first - second) / (len(X))\n"
   ],
   "metadata": {
    "collapsed": false,
    "pycharm": {
     "name": "#%%\n"
    }
   }
  },
  {
   "cell_type": "code",
   "execution_count": 200,
   "outputs": [
    {
     "data": {
      "text/plain": "((100, 3), (3,), (100, 1))"
     },
     "execution_count": 200,
     "metadata": {},
     "output_type": "execute_result"
    }
   ],
   "source": [
    "X.shape, theta.shape, y.shape"
   ],
   "metadata": {
    "collapsed": false,
    "pycharm": {
     "name": "#%%\n"
    }
   }
  },
  {
   "cell_type": "code",
   "execution_count": 201,
   "outputs": [
    {
     "data": {
      "text/plain": "0.6931471805599453"
     },
     "execution_count": 201,
     "metadata": {},
     "output_type": "execute_result"
    }
   ],
   "source": [
    "cost(theta, X, y)"
   ],
   "metadata": {
    "collapsed": false,
    "pycharm": {
     "name": "#%%\n"
    }
   }
  },
  {
   "cell_type": "code",
   "execution_count": 202,
   "outputs": [],
   "source": [
    "def gradient(theta, X, y):\n",
    "    theta = np.matrix(theta)\n",
    "    X = np.matrix(X)\n",
    "    y = np.matrix(y)\n",
    "\n",
    "    parameters = int(theta.ravel().shape[1])\n",
    "    grad = np.zeros(parameters)\n",
    "\n",
    "    error = sigmoid(np.dot(X,theta.T)) - y\n",
    "\n",
    "    for i in range(parameters):\n",
    "        term = np.multiply(error, X[:,i])\n",
    "        grad[i] = np.sum(term) / len(X)\n",
    "\n",
    "    return grad"
   ],
   "metadata": {
    "collapsed": false,
    "pycharm": {
     "name": "#%%\n"
    }
   }
  },
  {
   "cell_type": "code",
   "execution_count": 203,
   "outputs": [
    {
     "data": {
      "text/plain": "array([-0.1       , -0.05454178, -0.04693708])"
     },
     "execution_count": 203,
     "metadata": {},
     "output_type": "execute_result"
    }
   ],
   "source": [
    "gradient(theta, X, y)"
   ],
   "metadata": {
    "collapsed": false,
    "pycharm": {
     "name": "#%%\n"
    }
   }
  },
  {
   "cell_type": "markdown",
   "source": [
    "import scipy.optimize as opt\n",
    "result = opt.fmin_tnc(func=cost, x0=theta, fprime=gradient, args=(X, y))\n",
    "result\n",
    "\n",
    "theta = result[0]\n",
    "theta"
   ],
   "metadata": {
    "collapsed": false,
    "pycharm": {
     "name": "#%% md\n"
    }
   }
  },
  {
   "cell_type": "markdown",
   "source": [
    "cost(result[0], X, y)\n"
   ],
   "metadata": {
    "collapsed": false,
    "pycharm": {
     "name": "#%% md\n"
    }
   }
  },
  {
   "cell_type": "code",
   "execution_count": 205,
   "outputs": [
    {
     "name": "stdout",
     "output_type": "stream",
     "text": [
      "[0.4787186  3.72816999 3.30525167]\n"
     ]
    }
   ],
   "source": [
    "lr = 0.1\n",
    "iterations = 1000\n",
    "parameters = 3\n",
    "theta = np.zeros(parameters)\n",
    "\n",
    "\n",
    "for i in range(iterations):\n",
    "\n",
    "    gradients = gradient(theta,X,y)\n",
    "    theta = theta - (lr * gradients)\n",
    "\n",
    "\n",
    "    #print(\"Error in iteration \"+ str(i) + \": \" + str(cost(theeta,X_train,Y_train)))\n",
    "\n",
    "\n",
    "print(theta)"
   ],
   "metadata": {
    "collapsed": false,
    "pycharm": {
     "name": "#%%\n"
    }
   }
  },
  {
   "cell_type": "code",
   "execution_count": 206,
   "outputs": [
    {
     "data": {
      "text/plain": "array([-1.1584955 , -1.32046314, -1.11279338, -0.20397164,  0.50000534,\n       -0.76787073, -0.16946151,  0.35032298,  0.3904341 ,  0.70167681,\n        1.12849422,  0.34990892,  0.62228796,  0.13893883, -0.97495193,\n       -0.43594801,  0.1279425 ,  0.08599218,  0.18737362,  0.42329846,\n        0.06452466,  0.89751752, -0.56427868, -1.17386706,  0.45860191,\n       -0.12597774,  0.54323126,  1.02589858, -0.14244014, -1.00305611,\n       -0.15928006,  0.73796589, -0.50552629, -0.50786321, -0.94886372,\n       -0.41114828, -1.18494241, -0.05479721,  0.34152827, -1.17492846,\n        0.68186752, -0.52644973,  1.07553061,  0.62459222, -0.54512155,\n       -0.12778297,  0.43129989,  1.19982671, -0.13337038,  0.96803417,\n        0.53406794,  1.25588033,  0.93000623, -1.16219819, -0.57355139,\n       -0.59968682,  1.19512241, -1.23492255,  0.32134047,  0.22975954,\n        0.36417333, -1.13375553, -0.35069588, -1.32897385, -0.78336991,\n        0.0342321 , -0.94062306, -0.61888692,  0.54656974,  0.04117188,\n       -1.22948374, -0.05993858,  0.25030103, -0.1936908 , -0.25407663,\n        1.27661971, -0.68641945, -0.56714044, -0.19377779,  0.61928565,\n        0.86902704,  1.09013808,  0.06255391, -0.31391423,  0.54982564,\n        0.10547432, -0.88020085,  0.36723908,  0.48516734, -0.49656234,\n        1.06249549,  0.92634023, -0.37951415,  0.33045293,  0.90383015,\n        0.666435  , -0.8732453 ,  1.25746686, -0.38482264,  0.34102933])"
     },
     "execution_count": 206,
     "metadata": {},
     "output_type": "execute_result"
    }
   ],
   "source": [
    "x_values = X[:,1]\n",
    "np.multiply(theta[1] , x_values)"
   ],
   "metadata": {
    "collapsed": false,
    "pycharm": {
     "name": "#%%\n"
    }
   }
  },
  {
   "cell_type": "code",
   "execution_count": 207,
   "outputs": [
    {
     "name": "stdout",
     "output_type": "stream",
     "text": [
      "[-0.31074106 -0.35418534 -0.29848247 -0.05471093  0.13411549 -0.20596452\n",
      " -0.04545434  0.09396647  0.1047254   0.18820945  0.30269387  0.09385541\n",
      "  0.16691512  0.0372673  -0.26150952 -0.11693351  0.03431778  0.02306552\n",
      "  0.05025887  0.11354055  0.01730733  0.24073943 -0.1513554  -0.31486414\n",
      "  0.12300993 -0.03379077  0.1457099   0.27517484 -0.03820645 -0.26904785\n",
      " -0.04272339  0.1979432  -0.13559636 -0.13622319 -0.25451193 -0.11028153\n",
      " -0.31783487 -0.01469815  0.09160748 -0.31514884  0.18289604 -0.14120862\n",
      "  0.28848755  0.16753319 -0.14621692 -0.03427498  0.11568675  0.32182725\n",
      " -0.03577368  0.25965398  0.14325204  0.33686241  0.24945382 -0.31173423\n",
      " -0.15384261 -0.16085286  0.32056543 -0.33124094  0.08619255  0.06162797\n",
      "  0.09768153 -0.30410511 -0.09406649 -0.35646815 -0.21012183  0.00918201\n",
      " -0.25230155 -0.16600287  0.14660537  0.01104346 -0.3297821  -0.01607721\n",
      "  0.06713777 -0.05195332 -0.06815049  0.3424253  -0.18411699 -0.15212301\n",
      " -0.05197665  0.16610982  0.23309748  0.29240568  0.01677872 -0.08420062\n",
      "  0.14747869  0.02829118 -0.23609461  0.09850385  0.13013552 -0.13319198\n",
      "  0.28499116  0.24847049 -0.10179636  0.08863676  0.24243266  0.1787566\n",
      " -0.23422894  0.33728796 -0.10322025  0.09147365] [ 0.2056657   0.25466882  0.19183858 -0.08312437 -0.29611178  0.08748264\n",
      " -0.09356537 -0.25082555 -0.26296113 -0.35712724 -0.48626035 -0.25070028\n",
      " -0.33310824 -0.18687153  0.15013481 -0.01294019 -0.1835446  -0.17085258\n",
      " -0.20152542 -0.2729042  -0.16435761 -0.41637862  0.0258861   0.21031635\n",
      " -0.28358522 -0.10672133 -0.30918973 -0.45522016 -0.10174065  0.1586377\n",
      " -0.09664575 -0.36810646  0.00811063  0.00881767  0.14224185 -0.02044332\n",
      "  0.21366718 -0.12825692 -0.24816473  0.21063747 -0.35113396  0.014441\n",
      " -0.47023627 -0.33380539  0.02009013 -0.10617516 -0.27532502 -0.50784191\n",
      " -0.1044847  -0.43771335 -0.30641738 -0.52480087 -0.42620804  0.20678595\n",
      "  0.02869155  0.03659879 -0.50641863  0.22878861 -0.24205693 -0.21434923\n",
      " -0.25501596  0.19818065 -0.03873312  0.25724372  0.09217189 -0.15519263\n",
      "  0.13974865  0.04240776 -0.31019978 -0.15729225  0.22714311 -0.1267014\n",
      " -0.22056403 -0.08623483 -0.06796517 -0.53107554  0.06283965  0.02675192\n",
      " -0.08620851 -0.33219989 -0.40775886 -0.47465574 -0.16376136 -0.04986137\n",
      " -0.31118485 -0.17674688  0.12146798 -0.2559435  -0.29162256  0.0053986\n",
      " -0.46629251 -0.4250989  -0.03001419 -0.24481389 -0.4182885  -0.34646487\n",
      "  0.11936359 -0.52528087 -0.02840811 -0.24801377]\n"
     ]
    }
   ],
   "source": [
    "\n",
    "x_values = X[:,1]\n",
    "y_values = (theta[0] + (np.multiply(theta[1] , x_values))) / ( -theta[2])\n",
    "\n",
    "print(x_values,y_values)"
   ],
   "metadata": {
    "collapsed": false,
    "pycharm": {
     "name": "#%%\n"
    }
   }
  },
  {
   "cell_type": "code",
   "execution_count": 209,
   "outputs": [
    {
     "data": {
      "text/plain": "<Figure size 432x288 with 1 Axes>",
      "image/png": "[encoded data removed]"
     },
     "metadata": {
      "needs_background": "light"
     },
     "output_type": "display_data"
    }
   ],
   "source": [
    "\n",
    "\n",
    "\n",
    "plt.plot(x_values, y_values, label='Decision Boundary')\n",
    "\n",
    "plt.scatter(data['Exam 1'][(data.Admission == 1) ],data['Exam 2'][(data.Admission == 1) ],\n",
    "           marker='^',\n",
    "           color='black',\n",
    "           label='Admitted')\n",
    "plt.scatter(data['Exam 1'][(data.Admission == 0) ],data['Exam 2'][(data.Admission == 0) ],\n",
    "           marker='o',\n",
    "           color='yellow',\n",
    "           label='Not Admitted')\n",
    "\n",
    "plt.xlabel('Exam 1')\n",
    "plt.ylabel('Exam 2')\n",
    "plt.legend()\n",
    "plt.show()\n",
    "\n"
   ],
   "metadata": {
    "collapsed": false,
    "pycharm": {
     "name": "#%%\n"
    }
   }
  }
 ],
 "metadata": {
  "kernelspec": {
   "display_name": "Python 3",
   "language": "python",
   "name": "python3"
  },
  "language_info": {
   "codemirror_mode": {
    "name": "ipython",
    "version": 2
   },
   "file_extension": ".py",
   "mimetype": "text/x-python",
   "name": "python",
   "nbconvert_exporter": "python",
   "pygments_lexer": "ipython2",
   "version": "2.7.6"
  }
 },
 "nbformat": 4,
 "nbformat_minor": 0
}